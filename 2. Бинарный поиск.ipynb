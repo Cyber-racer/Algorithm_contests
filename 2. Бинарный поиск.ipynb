{
 "cells": [
  {
   "cell_type": "markdown",
   "id": "1f82d6e7-e79b-4cd2-a75e-4750536bcdfd",
   "metadata": {},
   "source": [
    "**Задача 1**\n",
    "\n",
    "Источник: https://leetcode.com/problems/search-in-rotated-sorted-array/description/ \n",
    "\n",
    "Условие:\n"
   ]
  },
  {
   "cell_type": "code",
   "execution_count": 1,
   "id": "8499f4f0-4529-4b9d-9bfe-041f09df85dc",
   "metadata": {},
   "outputs": [],
   "source": [
    "# Здесь будет решение"
   ]
  },
  {
   "cell_type": "markdown",
   "id": "fb123a69-38a5-4dab-8913-47c32cfbde4c",
   "metadata": {},
   "source": [
    "**Задача 2**\n",
    "\n",
    "Источник: https://leetcode.com/problems/find-minimum-in-rotated-sorted-array/description/\n",
    "\n",
    "Условие:\n"
   ]
  },
  {
   "cell_type": "code",
   "execution_count": 2,
   "id": "0be006c5-9c30-4d03-be2d-f2a351b45c33",
   "metadata": {},
   "outputs": [],
   "source": [
    "# Здесь будет решение"
   ]
  },
  {
   "cell_type": "markdown",
   "id": "9a3ffa5a-ea73-4605-ae87-1b9af0431533",
   "metadata": {},
   "source": [
    "**Задача 3**\n",
    "\n",
    "Источник: https://leetcode.com/problems/find-minimum-in-rotated-sorted-array-ii/description/\n",
    "\n",
    "Условие:\n"
   ]
  },
  {
   "cell_type": "code",
   "execution_count": 3,
   "id": "80153415-621e-4871-894a-94cb84b35f8c",
   "metadata": {},
   "outputs": [],
   "source": [
    "# Здесь будет решение"
   ]
  },
  {
   "cell_type": "markdown",
   "id": "2aee13c3-364e-4190-9b69-94ad41d7c492",
   "metadata": {},
   "source": [
    "**Задача 4**\n",
    "\n",
    "Источник: https://leetcode.com/problems/single-element-in-a-sorted-array/description/\n",
    "\n",
    "Условие:\n"
   ]
  },
  {
   "cell_type": "code",
   "execution_count": 4,
   "id": "9ccc1473-9f47-4537-9f90-08f25592acfe",
   "metadata": {},
   "outputs": [],
   "source": [
    "# Здесь будет решение"
   ]
  },
  {
   "cell_type": "code",
   "execution_count": null,
   "id": "8be304d0-9028-4c5b-93ec-d12ae448e09e",
   "metadata": {},
   "outputs": [],
   "source": []
  }
 ],
 "metadata": {
  "kernelspec": {
   "display_name": "Python 3 (ipykernel)",
   "language": "python",
   "name": "python3"
  },
  "language_info": {
   "codemirror_mode": {
    "name": "ipython",
    "version": 3
   },
   "file_extension": ".py",
   "mimetype": "text/x-python",
   "name": "python",
   "nbconvert_exporter": "python",
   "pygments_lexer": "ipython3",
   "version": "3.9.0"
  }
 },
 "nbformat": 4,
 "nbformat_minor": 5
}
